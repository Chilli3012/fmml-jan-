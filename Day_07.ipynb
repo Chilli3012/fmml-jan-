{
  "nbformat": 4,
  "nbformat_minor": 0,
  "metadata": {
    "colab": {
      "name": "Day_07.ipynb",
      "provenance": [],
      "authorship_tag": "ABX9TyNuHwOf4eCqHm77dNlfqaCF",
      "include_colab_link": true
    },
    "kernelspec": {
      "name": "python3",
      "display_name": "Python 3"
    },
    "language_info": {
      "name": "python"
    }
  },
  "cells": [
    {
      "cell_type": "markdown",
      "metadata": {
        "id": "view-in-github",
        "colab_type": "text"
      },
      "source": [
        "<a href=\"https://colab.research.google.com/github/ckraju/fmml-jan-/blob/main/Day_07.ipynb\" target=\"_parent\"><img src=\"https://colab.research.google.com/assets/colab-badge.svg\" alt=\"Open In Colab\"/></a>"
      ]
    },
    {
      "cell_type": "code",
      "execution_count": null,
      "metadata": {
        "id": "Jb1ZJwJgCiVE"
      },
      "outputs": [],
      "source": [
        "import pandas as pd\n",
        "from google.colab import files"
      ]
    },
    {
      "cell_type": "code",
      "source": [
        "files.upload()"
      ],
      "metadata": {
        "id": "wdb2rwvAC7Ee"
      },
      "execution_count": null,
      "outputs": []
    },
    {
      "cell_type": "code",
      "source": [
        "sales_data = pd.read_csv('sales.csv')"
      ],
      "metadata": {
        "id": "zIRhNFNWDN4o"
      },
      "execution_count": null,
      "outputs": []
    },
    {
      "cell_type": "code",
      "source": [
        "trimmed_sales_data = sales_data[['Region', 'Country', 'itemtype', 'Revenue', 'Cost']]"
      ],
      "metadata": {
        "id": "QdymNUh4DZqy"
      },
      "execution_count": null,
      "outputs": []
    },
    {
      "cell_type": "code",
      "source": [
        "countrywise_sales = trimmed_sales_data.groupby('Country').sum()"
      ],
      "metadata": {
        "id": "Y-leP9qFEtTF"
      },
      "execution_count": null,
      "outputs": []
    },
    {
      "cell_type": "code",
      "source": [
        "sorted_countrywise_sales = countrywise_sales.sort_values(by='Revenue', ascending=False)"
      ],
      "metadata": {
        "id": "6598qizoFkCF"
      },
      "execution_count": null,
      "outputs": []
    },
    {
      "cell_type": "code",
      "source": [
        "top_ten_countrywise_sales = sorted_countrywise_sales[0:10]"
      ],
      "metadata": {
        "id": "9j5Q7-4PHgwI"
      },
      "execution_count": null,
      "outputs": []
    },
    {
      "cell_type": "code",
      "source": [
        "top_ten_countrywise_sales.plot.bar(stacked=True)"
      ],
      "metadata": {
        "id": "wWfl-NvkHwSo"
      },
      "execution_count": null,
      "outputs": []
    },
    {
      "cell_type": "code",
      "source": [
        ""
      ],
      "metadata": {
        "id": "ZTtqTS0UDjJf"
      },
      "execution_count": null,
      "outputs": []
    }
  ]
}